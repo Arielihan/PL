{
 "cells": [
  {
   "cell_type": "code",
   "execution_count": 27,
   "id": "5270f090",
   "metadata": {},
   "outputs": [],
   "source": [
    "import requests\n",
    "from bs4 import BeautifulSoup\n",
    "import pandas as pd\n"
   ]
  },
  {
   "cell_type": "code",
   "execution_count": 28,
   "id": "4c1a5809",
   "metadata": {},
   "outputs": [],
   "source": [
    "num_pages = 50\n",
    "search_keyword = \"心得\" #搜尋關鍵字"
   ]
  },
  {
   "cell_type": "code",
   "execution_count": 29,
   "id": "53b7d2b8",
   "metadata": {},
   "outputs": [],
   "source": [
    "url = 'https://www.ptt.cc/bbs/EAseries/index.html'"
   ]
  },
  {
   "cell_type": "code",
   "execution_count": 30,
   "id": "3a058322",
   "metadata": {},
   "outputs": [
    {
     "data": {
      "text/plain": [
       "<Response [200]>"
      ]
     },
     "execution_count": 30,
     "metadata": {},
     "output_type": "execute_result"
    }
   ],
   "source": [
    "session = requests.session()\n",
    "payload = {\n",
    "    'from': '/bbs/EAseries/index.html',\n",
    "    'yes': 'yes'\n",
    "}\n",
    "session.post('https://www.ptt.cc/ask/over18', data=payload)"
   ]
  },
  {
   "cell_type": "code",
   "execution_count": 31,
   "id": "f6a2359c",
   "metadata": {},
   "outputs": [],
   "source": [
    "author_counts = {}  # 用來儲存作者文章數量的字典\n",
    "processed_titles = set()  # 用來儲存已處理過的文章標題"
   ]
  },
  {
   "cell_type": "code",
   "execution_count": 32,
   "id": "def13c3b",
   "metadata": {},
   "outputs": [],
   "source": [
    "for i in range(num_pages):\n",
    "    response = session.get(url)\n",
    "    soup = BeautifulSoup(response.text, 'html.parser')\n",
    "\n",
    "    for article in soup.find_all(class_='r-ent'):\n",
    "        title = article.find(class_='title').text.strip()\n",
    "        author = article.find(class_='author').text  # 取得作者名稱\n",
    "\n",
    "        if search_keyword in title and title not in processed_titles:\n",
    "            # 如果作者在字典中，增加其文章數量，否則新增作者並設定文章數量為1\n",
    "            if author in author_counts:\n",
    "                author_counts[author] += 1\n",
    "            else:\n",
    "                author_counts[author] = 1\n",
    "\n",
    "            processed_titles.add(title)  # 將處理過的文章標題加入集合中，避免重複計算"
   ]
  },
  {
   "cell_type": "code",
   "execution_count": 33,
   "id": "73a76437",
   "metadata": {},
   "outputs": [],
   "source": [
    "    paging = soup.find(class_='btn-group-paging')\n",
    "    previous_page_link = paging.find_all('a')[1]['href']\n",
    "    url = 'https://www.ptt.cc' + previous_page_link"
   ]
  },
  {
   "cell_type": "code",
   "execution_count": 34,
   "id": "025f96da",
   "metadata": {},
   "outputs": [],
   "source": [
    "# 將作者文章數量資料轉換成pandas的資料框架\n",
    "df = pd.DataFrame(list(author_counts.items()), columns=['Author', 'Number of Articles'])"
   ]
  },
  {
   "cell_type": "code",
   "execution_count": 35,
   "id": "9f425392",
   "metadata": {},
   "outputs": [],
   "source": [
    "# 輸出為CSV檔案\n",
    "df.to_csv('author_counts.csv', index=False)"
   ]
  },
  {
   "cell_type": "code",
   "execution_count": 36,
   "id": "c9f5fc4e",
   "metadata": {},
   "outputs": [],
   "source": [
    "# 輸出為JSON檔案\n",
    "df.to_json('author_counts.json', orient='records', lines=True)"
   ]
  },
  {
   "cell_type": "code",
   "execution_count": 37,
   "id": "83263865",
   "metadata": {},
   "outputs": [
    {
     "name": "stdout",
     "output_type": "stream",
     "text": [
      "ariachiang\n",
      "joe6304105\n",
      "mysmalllamb\n"
     ]
    }
   ],
   "source": [
    "# 列印列表\n",
    "for title in author_counts:\n",
    "    print(title)"
   ]
  },
  {
   "cell_type": "code",
   "execution_count": null,
   "id": "7e029b82",
   "metadata": {},
   "outputs": [],
   "source": []
  }
 ],
 "metadata": {
  "kernelspec": {
   "display_name": "Python 3 (ipykernel)",
   "language": "python",
   "name": "python3"
  },
  "language_info": {
   "codemirror_mode": {
    "name": "ipython",
    "version": 3
   },
   "file_extension": ".py",
   "mimetype": "text/x-python",
   "name": "python",
   "nbconvert_exporter": "python",
   "pygments_lexer": "ipython3",
   "version": "3.11.4"
  }
 },
 "nbformat": 4,
 "nbformat_minor": 5
}
