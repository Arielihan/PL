{
 "cells": [
  {
   "cell_type": "code",
   "execution_count": 6,
   "id": "0982457c",
   "metadata": {},
   "outputs": [
    {
     "name": "stdout",
     "output_type": "stream",
     "text": [
      "Requirement already satisfied: requests in c:\\users\\ariel\\anaconda3\\lib\\site-packages (2.31.0)\n",
      "Requirement already satisfied: charset-normalizer<4,>=2 in c:\\users\\ariel\\anaconda3\\lib\\site-packages (from requests) (2.0.4)\n",
      "Requirement already satisfied: idna<4,>=2.5 in c:\\users\\ariel\\anaconda3\\lib\\site-packages (from requests) (3.4)\n",
      "Requirement already satisfied: urllib3<3,>=1.21.1 in c:\\users\\ariel\\anaconda3\\lib\\site-packages (from requests) (1.26.16)\n",
      "Requirement already satisfied: certifi>=2017.4.17 in c:\\users\\ariel\\anaconda3\\lib\\site-packages (from requests) (2023.7.22)\n",
      "Note: you may need to restart the kernel to use updated packages.\n"
     ]
    }
   ],
   "source": [
    "pip install requests"
   ]
  },
  {
   "cell_type": "code",
   "execution_count": 7,
   "id": "95d59805",
   "metadata": {},
   "outputs": [
    {
     "name": "stdout",
     "output_type": "stream",
     "text": [
      "Requirement already satisfied: beautifulsoup4 in c:\\users\\ariel\\anaconda3\\lib\\site-packages (4.12.2)\n",
      "Requirement already satisfied: soupsieve>1.2 in c:\\users\\ariel\\anaconda3\\lib\\site-packages (from beautifulsoup4) (2.4)\n",
      "Note: you may need to restart the kernel to use updated packages.\n"
     ]
    }
   ],
   "source": [
    "pip install beautifulsoup4"
   ]
  },
  {
   "cell_type": "code",
   "execution_count": 23,
   "id": "1d8e2a01",
   "metadata": {},
   "outputs": [
    {
     "name": "stdout",
     "output_type": "stream",
     "text": [
      "找不到相應的標籤。\n"
     ]
    }
   ],
   "source": [
    "import requests\n",
    "from bs4 import BeautifulSoup\n",
    "\n",
    "# 目標網頁的URL\n",
    "url = \"https://www.backpackers.com.tw/forum/search.php?searchid=33616895\"\n",
    "\n",
    "# 發送GET請求，獲取網頁內容\n",
    "response = requests.get(url)\n",
    "\n",
    "# 使用BeautifulSoup解析HTML內容\n",
    "soup = BeautifulSoup(response.content, \"html.parser\")\n",
    "\n",
    "# 找到所有的主題標題和作者所在的<td>標籤\n",
    "td_elements = soup.find_all(\"td\", class_=\"thead\", string=\"主題 / 主題作者\")\n",
    "\n",
    "# 如果找到了相應的<td>標籤\n",
    "if td_elements:\n",
    "    # 找到父親<tr>標籤\n",
    "    tr_element = td_elements[0].find_parent(\"tr\")\n",
    "    \n",
    "    # 找到所有的主題標題和作者所在的<td>標籤\n",
    "    topic_elements = tr_element.find_all(\"td\", class_=\"title\")\n",
    "    \n",
    "    # 遍歷每個主題，獲取主題標題和作者\n",
    "    for topic_element in topic_elements:\n",
    "        # 獲取主題標題\n",
    "        topic_title = tr_element.find(\"a\", id=lambda x: x and x.startswith(\"thread_title_\"))\n",
    "    if topic_title:\n",
    "        topic_title_text = topic_title.text.strip()\n",
    "    else:\n",
    "        topic_title_text = \"未知主題標題\"\n",
    "        \n",
    "        # 獲取主題作者\n",
    "    author_element = tr_element.find(\"span\", style=\"cursor:pointer\")\n",
    "    if author_element:\n",
    "        author = author_element.text.strip()\n",
    "    else:\n",
    "        author = \"未知作者\"\n",
    "        \n",
    "        # 獲取版面\n",
    "    forum_element = tr_element.find_next(\"td\", class_=\"alt1\")\n",
    "    if forum_element:\n",
    "        forum = forum_element.text.strip()\n",
    "    else:\n",
    "        forum = \"未知版面\"\n",
    "        \n",
    "        # 輸出結果\n",
    "    # 輸出結果\n",
    "    print(\"主題標題：\", topic_title_text)\n",
    "    print(\"作者：\", author)\n",
    "    print(\"版面：\", forum)\n",
    "else:\n",
    "    print(\"找不到相應的標籤。\")"
   ]
  },
  {
   "cell_type": "code",
   "execution_count": null,
   "id": "773e5c94",
   "metadata": {},
   "outputs": [],
   "source": []
  },
  {
   "cell_type": "code",
   "execution_count": null,
   "id": "927fb167",
   "metadata": {},
   "outputs": [],
   "source": []
  },
  {
   "cell_type": "code",
   "execution_count": null,
   "id": "1213f036",
   "metadata": {},
   "outputs": [],
   "source": []
  }
 ],
 "metadata": {
  "kernelspec": {
   "display_name": "Python 3 (ipykernel)",
   "language": "python",
   "name": "python3"
  },
  "language_info": {
   "codemirror_mode": {
    "name": "ipython",
    "version": 3
   },
   "file_extension": ".py",
   "mimetype": "text/x-python",
   "name": "python",
   "nbconvert_exporter": "python",
   "pygments_lexer": "ipython3",
   "version": "3.11.4"
  }
 },
 "nbformat": 4,
 "nbformat_minor": 5
}
