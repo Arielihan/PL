{
 "cells": [
  {
   "cell_type": "code",
   "execution_count": 9,
   "id": "830542f3",
   "metadata": {},
   "outputs": [],
   "source": [
    "import pandas as pd\n",
    "\n",
    "# 設定 CSV 檔案的路徑\n",
    "csv_file_path_PL_yth_c2 = 'yth_c2.csv'\n",
    "csv_file_path_PL_yth_c1 = 'yth_c1.csv'\n",
    "\n",
    "\n",
    "# 使用 pandas 的 read_csv 函式讀取 CSV 檔案並將其轉換為 DataFrame\n",
    "df_yth_c2 = pd.read_csv(csv_file_path_PL_yth_c2)\n",
    "df_yth_c1 = pd.read_csv(csv_file_path_PL_yth_c1)"
   ]
  },
  {
   "cell_type": "code",
   "execution_count": 13,
   "id": "9bc37fbf",
   "metadata": {},
   "outputs": [
    {
     "name": "stdout",
     "output_type": "stream",
     "text": [
      "1          豆豆\n",
      "4    michelle\n",
      "6     patrick\n",
      "9     patrick\n",
      "Name: rally, dtype: object\n"
     ]
    }
   ],
   "source": [
    "# 從 DataFrame 中取出學生名稱欄位，假設欄位名稱為 '學生名稱'，你可以根據實際情況調整\n",
    "v_names_yth_c2 = df_yth_c2['rally']\n",
    "v_names_yth_c1 = df_yth_c1['rally']\n",
    "\n",
    "\n",
    "# 將學生名稱轉換為 set 資料型態\n",
    "v_names_yth_c2_set = set(v_names_yth_c2)\n",
    "v_names_yth_c1_set = set(v_names_yth_c1)\n",
    "\n",
    "# 假设 v_names_yth_c1 和 v_names_yth_c2 是两个 Pandas Series\n",
    "common_students = v_names_yth_c1[v_names_yth_c1.isin(v_names_yth_c2)]\n",
    "print(common_students)\n",
    "\n"
   ]
  },
  {
   "cell_type": "code",
   "execution_count": null,
   "id": "c38fbabd",
   "metadata": {},
   "outputs": [],
   "source": []
  }
 ],
 "metadata": {
  "kernelspec": {
   "display_name": "Python 3 (ipykernel)",
   "language": "python",
   "name": "python3"
  },
  "language_info": {
   "codemirror_mode": {
    "name": "ipython",
    "version": 3
   },
   "file_extension": ".py",
   "mimetype": "text/x-python",
   "name": "python",
   "nbconvert_exporter": "python",
   "pygments_lexer": "ipython3",
   "version": "3.11.4"
  }
 },
 "nbformat": 4,
 "nbformat_minor": 5
}
