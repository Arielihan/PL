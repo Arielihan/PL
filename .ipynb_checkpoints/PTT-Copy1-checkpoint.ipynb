{
 "cells": [
  {
   "cell_type": "code",
   "execution_count": 7,
   "id": "5270f090",
   "metadata": {},
   "outputs": [],
   "source": [
    "import requests\n",
    "from bs4 import BeautifulSoup\n",
    "num_pages = 30\n",
    "search_keyword = \"亞森羅蘋\" #搜尋關鍵字"
   ]
  },
  {
   "cell_type": "code",
   "execution_count": 8,
   "id": "53b7d2b8",
   "metadata": {},
   "outputs": [],
   "source": [
    "url = 'https://www.ptt.cc/bbs/EAseries/index.html'"
   ]
  },
  {
   "cell_type": "code",
   "execution_count": 9,
   "id": "3a058322",
   "metadata": {},
   "outputs": [
    {
     "data": {
      "text/plain": [
       "<Response [200]>"
      ]
     },
     "execution_count": 9,
     "metadata": {},
     "output_type": "execute_result"
    }
   ],
   "source": [
    "session = requests.session()\n",
    "payload = {\n",
    "    'from': '/bbs/EAseries/index.html',\n",
    "    'yes': 'yes'\n",
    "}\n",
    "session.post('https://www.ptt.cc/ask/over18', data=payload)"
   ]
  },
  {
   "cell_type": "code",
   "execution_count": 10,
   "id": "f6a2359c",
   "metadata": {},
   "outputs": [],
   "source": [
    "matching_titles = []"
   ]
  },
  {
   "cell_type": "code",
   "execution_count": 11,
   "id": "def13c3b",
   "metadata": {},
   "outputs": [],
   "source": [
    "for i in range(num_pages):\n",
    "    response = session.get(url)\n",
    "    soup = BeautifulSoup(response.text, 'html.parser')\n",
    "\n",
    "    # 解析內容\n",
    "    for article in soup.find_all(class_='r-ent'):\n",
    "        title = article.find(class_='title').text.strip()\n",
    "\n",
    "        if search_keyword in title:\n",
    "            matching_titles.append(title)\n",
    "            # 下一頁\n",
    "    paging = soup.find(class_='btn-group-paging')\n",
    "    previous_page_link = paging.find_all('a')[1]['href']\n",
    "    url = 'https://www.ptt.cc' + previous_page_link"
   ]
  },
  {
   "cell_type": "code",
   "execution_count": 12,
   "id": "025f96da",
   "metadata": {},
   "outputs": [
    {
     "name": "stdout",
     "output_type": "stream",
     "text": [
      "[討論] 亞森羅蘋S03結尾(雷)\n",
      "[閒聊] 亞森羅蘋S03好虛\n"
     ]
    }
   ],
   "source": [
    "# 列印列表\n",
    "for title in matching_titles:\n",
    "    print(title)"
   ]
  },
  {
   "cell_type": "code",
   "execution_count": null,
   "id": "9f425392",
   "metadata": {},
   "outputs": [],
   "source": []
  }
 ],
 "metadata": {
  "kernelspec": {
   "display_name": "Python 3 (ipykernel)",
   "language": "python",
   "name": "python3"
  },
  "language_info": {
   "codemirror_mode": {
    "name": "ipython",
    "version": 3
   },
   "file_extension": ".py",
   "mimetype": "text/x-python",
   "name": "python",
   "nbconvert_exporter": "python",
   "pygments_lexer": "ipython3",
   "version": "3.11.4"
  }
 },
 "nbformat": 4,
 "nbformat_minor": 5
}
