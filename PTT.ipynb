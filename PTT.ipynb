{
 "cells": [
  {
   "cell_type": "code",
   "execution_count": 6,
   "id": "5270f090",
   "metadata": {},
   "outputs": [],
   "source": [
    "import requests\n",
    "from bs4 import BeautifulSoup\n",
    "import pandas as pd"
   ]
  },
  {
   "cell_type": "code",
   "execution_count": 7,
   "id": "53b7d2b8",
   "metadata": {},
   "outputs": [],
   "source": [
    "url = 'https://www.ptt.cc/bbs/EAseries/index.html'"
   ]
  },
  {
   "cell_type": "code",
   "execution_count": 8,
   "id": "0e7224b6",
   "metadata": {},
   "outputs": [],
   "source": [
    "response = requests.get(url)"
   ]
  },
  {
   "cell_type": "code",
   "execution_count": 9,
   "id": "0c13e2b3",
   "metadata": {},
   "outputs": [],
   "source": [
    "start_page = 1\n",
    "end_page = 50\n",
    "search_keyword = \"心得\" #搜尋關鍵字"
   ]
  },
  {
   "cell_type": "code",
   "execution_count": 10,
   "id": "74f01d38",
   "metadata": {},
   "outputs": [
    {
     "data": {
      "text/plain": [
       "<div class=\"title\">\n",
       "<a href=\"/bbs/EAseries/M.1482764862.A.5D6.html\">[公告] 置底閒聊區</a>\n",
       "</div>"
      ]
     },
     "execution_count": 10,
     "metadata": {},
     "output_type": "execute_result"
    }
   ],
   "source": [
    "response.text\n",
    "data = BeautifulSoup(response.text, 'html.parser')\n",
    "titles = data.find_all('div', class_='title')\n",
    "authors = data.find_all('div', class_='author')\n",
    "title"
   ]
  },
  {
   "cell_type": "code",
   "execution_count": 11,
   "id": "3a795994",
   "metadata": {},
   "outputs": [
    {
     "name": "stdout",
     "output_type": "stream",
     "text": [
      "[閒聊] Julia 傳奇廚神茱莉亞將在11月回歸\n",
      "[請益] 請問stargate系列值得看嗎？\n",
      "[心得] 惡意也可能包裝的親近又可靠-家族之友S1(雷)\n",
      "[新聞] Disney+萬聖節好應景！恐怖驚悚片連番上線\n",
      "[心得] 美國恐怖故事 S12 ep1 (雷)\n",
      "[心得] American Horror Stories 301-303 (雷)\n",
      "[討論] The Crown S6 第1部正式預告\n",
      "[討論] The Summer I Turned Pretty好看嗎？！\n",
      "[收視] 九月第五周，醫生縮短差距Gen V入榜\n",
      "[心得] Loki 洛基 S02E04 (雷)\n",
      "[心得] Loki S2Ep4（雷）\n",
      "[心得] 奇觀 The Spectacular (雷) NPO 荷蘭反恐劇 2021\n",
      "[心得] 夢魘絕鎮 人性的考驗 含雷\n",
      "[心得] The Office S4E9，麥可版本的廣告很棒耶\n",
      "[公告] 新手常見問題集\n",
      "[公告] 板規I新聞相關規範 \n",
      "[公告] 歐美影集板規 3.1 \n",
      "[公告] 虛擬服務置底區 \n",
      "[公告] 置底閒聊區\n"
     ]
    },
    {
     "data": {
      "text/plain": [
       "['[閒聊] Julia 傳奇廚神茱莉亞將在11月回歸',\n",
       " '[請益] 請問stargate系列值得看嗎？',\n",
       " '[心得] 惡意也可能包裝的親近又可靠-家族之友S1(雷)',\n",
       " '[新聞] Disney+萬聖節好應景！恐怖驚悚片連番上線',\n",
       " '[心得] 美國恐怖故事 S12 ep1 (雷)',\n",
       " '[心得] American Horror Stories 301-303 (雷)',\n",
       " '[討論] The Crown S6 第1部正式預告',\n",
       " '[討論] The Summer I Turned Pretty好看嗎？！',\n",
       " '[收視] 九月第五周，醫生縮短差距Gen V入榜',\n",
       " '[心得] Loki 洛基 S02E04 (雷)',\n",
       " '[心得] Loki S2Ep4（雷）',\n",
       " '[心得] 奇觀 The Spectacular (雷) NPO 荷蘭反恐劇 2021',\n",
       " '[心得] 夢魘絕鎮 人性的考驗 含雷',\n",
       " '[心得] The Office S4E9，麥可版本的廣告很棒耶',\n",
       " '[公告] 新手常見問題集',\n",
       " '[公告] 板規I新聞相關規範 ',\n",
       " '[公告] 歐美影集板規 3.1 ',\n",
       " '[公告] 虛擬服務置底區 ',\n",
       " '[公告] 置底閒聊區']"
      ]
     },
     "execution_count": 11,
     "metadata": {},
     "output_type": "execute_result"
    }
   ],
   "source": [
    "songs = []\n",
    "for title in titles:\n",
    "    print(title.a.string) \n",
    "    songs.append(title.a.string)\n",
    "songs"
   ]
  },
  {
   "cell_type": "code",
   "execution_count": 12,
   "id": "4502523d",
   "metadata": {},
   "outputs": [
    {
     "name": "stdout",
     "output_type": "stream",
     "text": [
      "标题: [心得] 惡意也可能包裝的親近又可靠-家族之友S1(雷)\n",
      "作者: diessa\n",
      "标题: [心得] 美國恐怖故事 S12 ep1 (雷)\n",
      "作者: c9047562\n",
      "标题: [心得] American Horror Stories 301-303 (雷)\n",
      "作者: ariachiang\n",
      "标题: [心得] Loki 洛基 S02E04 (雷)\n",
      "作者: ariachiang\n",
      "标题: [心得] Loki S2Ep4（雷）\n",
      "作者: Garry9957\n",
      "标题: [心得] 奇觀 The Spectacular (雷) NPO 荷蘭反恐劇 2021\n",
      "作者: mysmalllamb\n",
      "标题: [心得] 夢魘絕鎮 人性的考驗 含雷\n",
      "作者: iamamen22\n",
      "标题: [心得] The Office S4E9，麥可版本的廣告很棒耶\n",
      "作者: hsnu127348\n"
     ]
    }
   ],
   "source": [
    "songs_with_keyword = []\n",
    "\n",
    "# 遍历所有的标题和作者\n",
    "for title, author in zip(titles, authors):\n",
    "    # 获取标题文本并去除首尾空格\n",
    "    title_text = title.a.text.strip() if title.a else title.text.strip()\n",
    "    author_text = author.text.strip()  # 获取作者文本并去除首尾空格\n",
    "\n",
    "    # 检查标题中是否包含搜索关键字\"心得\"\n",
    "    if search_keyword in title_text:\n",
    "        print(f\"标题: {title_text}\")\n",
    "        print(f\"作者: {author_text}\")\n",
    "        songs_with_keyword.append((title_text, author_text))"
   ]
  },
  {
   "cell_type": "code",
   "execution_count": 13,
   "id": "adf9dac1",
   "metadata": {},
   "outputs": [
    {
     "name": "stdout",
     "output_type": "stream",
     "text": [
      "[('[心得] 惡意也可能包裝的親近又可靠-家族之友S1(雷)', 'diessa'), ('[心得] 美國恐怖故事 S12 ep1 (雷)', 'c9047562'), ('[心得] American Horror Stories 301-303 (雷)', 'ariachiang'), ('[心得] Loki 洛基 S02E04 (雷)', 'ariachiang'), ('[心得] Loki S2Ep4（雷）', 'Garry9957'), ('[心得] 奇觀 The Spectacular (雷) NPO 荷蘭反恐劇 2021', 'mysmalllamb'), ('[心得] 夢魘絕鎮 人性的考驗 含雷', 'iamamen22'), ('[心得] The Office S4E9，麥可版本的廣告很棒耶', 'hsnu127348')]\n"
     ]
    }
   ],
   "source": [
    "# 输出包含关键字\"心得\"的标题及其对应的作者\n",
    "print(songs_with_keyword)"
   ]
  },
  {
   "cell_type": "code",
   "execution_count": 15,
   "id": "f6a2359c",
   "metadata": {},
   "outputs": [],
   "source": [
    "author_counts = {}  # 用來儲存作者文章數量的字典\n",
    "processed_titles = set()  # 用來儲存已處理過的文章標題"
   ]
  },
  {
   "cell_type": "code",
   "execution_count": 18,
   "id": "ab2af0f8",
   "metadata": {},
   "outputs": [],
   "source": [
    "session = requests.Session()"
   ]
  },
  {
   "cell_type": "code",
   "execution_count": 19,
   "id": "def13c3b",
   "metadata": {},
   "outputs": [],
   "source": [
    "for i in range(start_page, end_page + 1):\n",
    "    response = session.get(url)\n",
    "    soup = BeautifulSoup(response.text, 'html.parser')\n",
    "\n",
    "    for article in soup.find_all(class_='r-ent'):\n",
    "        title = article.find(class_='title').text.strip()\n",
    "        author = article.find(class_='author').text  # 取得作者名稱\n",
    "\n",
    "        if search_keyword in title and title not in processed_titles:\n",
    "            # 如果作者在字典中，增加其文章數量，否則新增作者並設定文章數量為1\n",
    "            if author in author_counts:\n",
    "                author_counts[author] += 1\n",
    "            else:\n",
    "                author_counts[author] = 1\n",
    "\n",
    "            processed_titles.add(title)  # 將處理過的文章標題加入集合中，避免重複計算"
   ]
  },
  {
   "cell_type": "code",
   "execution_count": 20,
   "id": "ec75e7ce",
   "metadata": {},
   "outputs": [],
   "source": [
    "    paging = soup.find(class_='btn-group-paging')\n",
    "    previous_page_link = paging.find_all('a')[1]['href']\n",
    "    url = 'https://www.ptt.cc' + previous_page_link"
   ]
  },
  {
   "cell_type": "code",
   "execution_count": 21,
   "id": "025f96da",
   "metadata": {},
   "outputs": [],
   "source": [
    "# 將作者文章數量資料轉換成pandas的資料框架\n",
    "df = pd.DataFrame(list(author_counts.items()), columns=['Author', 'Number of Articles'])"
   ]
  },
  {
   "cell_type": "code",
   "execution_count": 22,
   "id": "9f425392",
   "metadata": {},
   "outputs": [],
   "source": [
    "# 輸出為CSV檔案\n",
    "df.to_csv('author_counts.csv', index=False)"
   ]
  },
  {
   "cell_type": "code",
   "execution_count": 23,
   "id": "1f122885",
   "metadata": {},
   "outputs": [],
   "source": [
    "# 輸出為JSON檔案\n",
    "df.to_json('author_counts.json', orient='records', lines=True)"
   ]
  },
  {
   "cell_type": "code",
   "execution_count": 24,
   "id": "18a1abbf",
   "metadata": {},
   "outputs": [
    {
     "name": "stdout",
     "output_type": "stream",
     "text": [
      "diessa\n",
      "c9047562\n",
      "ariachiang\n",
      "Garry9957\n",
      "mysmalllamb\n",
      "iamamen22\n",
      "hsnu127348\n"
     ]
    }
   ],
   "source": [
    "# 列印列表\n",
    "for title in author_counts:\n",
    "    print(title)"
   ]
  },
  {
   "cell_type": "code",
   "execution_count": null,
   "id": "7e40388b",
   "metadata": {},
   "outputs": [],
   "source": []
  }
 ],
 "metadata": {
  "kernelspec": {
   "display_name": "Python 3 (ipykernel)",
   "language": "python",
   "name": "python3"
  },
  "language_info": {
   "codemirror_mode": {
    "name": "ipython",
    "version": 3
   },
   "file_extension": ".py",
   "mimetype": "text/x-python",
   "name": "python",
   "nbconvert_exporter": "python",
   "pygments_lexer": "ipython3",
   "version": "3.11.4"
  }
 },
 "nbformat": 4,
 "nbformat_minor": 5
}
